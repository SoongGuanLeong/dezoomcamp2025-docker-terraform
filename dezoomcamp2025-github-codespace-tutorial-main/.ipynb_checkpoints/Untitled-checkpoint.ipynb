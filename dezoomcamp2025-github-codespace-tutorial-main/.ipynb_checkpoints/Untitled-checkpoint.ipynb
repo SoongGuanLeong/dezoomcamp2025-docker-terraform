{
 "cells": [
  {
   "cell_type": "code",
   "execution_count": 1,
   "id": "5fad5581-3ed9-40a9-9ae7-c0f6732e10da",
   "metadata": {},
   "outputs": [
    {
     "name": "stdout",
     "output_type": "stream",
     "text": [
      "Hello world in CodeSpaces\n"
     ]
    }
   ],
   "source": [
    "print(\"Hello world in CodeSpaces\")"
   ]
  },
  {
   "cell_type": "code",
   "execution_count": null,
   "id": "b00852bc-8c09-4fa6-b860-3d2085943e81",
   "metadata": {},
   "outputs": [],
   "source": []
  }
 ],
 "metadata": {
  "kernelspec": {
   "display_name": "Python 3 (ipykernel)",
   "language": "python",
   "name": "python3"
  },
  "language_info": {
   "codemirror_mode": {
    "name": "ipython",
    "version": 3
   },
   "file_extension": ".py",
   "mimetype": "text/x-python",
   "name": "python",
   "nbconvert_exporter": "python",
   "pygments_lexer": "ipython3",
   "version": "3.10.12"
  }
 },
 "nbformat": 4,
 "nbformat_minor": 5
}
